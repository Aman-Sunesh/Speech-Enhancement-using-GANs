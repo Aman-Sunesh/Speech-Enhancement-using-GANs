{
 "cells": [
  {
   "cell_type": "markdown",
   "metadata": {},
   "source": [
    "# Speech Enhancement using Conditional GANs"
   ]
  },
  {
   "cell_type": "code",
   "execution_count": 9,
   "metadata": {},
   "outputs": [],
   "source": [
    "# System & Utilities\n",
    "import os\n",
    "import numpy as np\n",
    "import pathlib\n",
    "import matplotlib.pyplot as plt\n",
    "from tqdm.auto import tqdm\n",
    "\n",
    "# Audio I/O & Processing\n",
    "import torch\n",
    "import torchaudio\n",
    "import soundfile as sf\n",
    "from torchaudio.transforms import MelSpectrogram, GriffinLim\n",
    "\n",
    "# PyTorch Model Building\n",
    "import torch.nn as nn\n",
    "import torch.nn.functional as F\n",
    "import torch.optim as optim\n",
    "from torch.utils.data import Dataset, DataLoader\n",
    "\n",
    "# ASR for WER Evaluation\n",
    "from transformers import Wav2Vec2ForCTC, Wav2Vec2Tokenizer\n",
    "from jiwer import wer\n",
    "\n",
    "# Demo / Deployment\n",
    "import gradio as gr"
   ]
  },
  {
   "cell_type": "markdown",
   "metadata": {},
   "source": [
    "## Preprocessing Pipeline"
   ]
  },
  {
   "cell_type": "code",
   "execution_count": 10,
   "metadata": {},
   "outputs": [],
   "source": [
    "# Instantiate the mel spectrogram transform\n",
    "mel_spec_transform = torchaudio.transforms.MelSpectrogram(sample_rate = 16000,\n",
    "                                                         n_fft = 512, \n",
    "                                                         hop_length = 128, \n",
    "                                                         n_mels = 80)"
   ]
  },
  {
   "cell_type": "code",
   "execution_count": 11,
   "metadata": {},
   "outputs": [],
   "source": [
    "def normalize_minus_one_to_one(data):\n",
    "    x_min = np.min(data)\n",
    "    x_max = np.max(data)\n",
    "    normalized_data = 2 * ((data - x_min) / (x_max - x_min)) - 1\n",
    "    return normalized_data"
   ]
  },
  {
   "cell_type": "code",
   "execution_count": 12,
   "metadata": {},
   "outputs": [],
   "source": [
    "class AudioDataset(Dataset):\n",
    "    def __init__(self, root, mode = 'train'):\n",
    "        root = Path(root)\n",
    "        self.clean_dir = data / 'clean_trainset_wav'\n",
    "        self.noisy_dir = data / 'noisy_trainset_wav'\n",
    "\n",
    "        # Ensure directories exist\n",
    "        assert self.clean_dir.exists(), f\"{self.clean_dir} not found.\"\n",
    "        assert self.noisy_dir.exists(), f\"{self.noisy_dir} not found.\"\n",
    "\n",
    "        self.file_list = sorted(p.stem for p in self.clean_dir.glob(\"*.wav\"))\n",
    "\n",
    "    def __len__(self):\n",
    "        return len(self.file_list)\n",
    "\n",
    "    def __getitem__(self, idx):\n",
    "        basename = self.file_list[idx]\n",
    "\n",
    "        clean_path = self.clean_dir / f\"{basename}.wav\"\n",
    "        noiay_path = self.noisy_dir / f\"{basename}.wav\"\n",
    "\n",
    "        # # Load and resample clean audio to 16 kHz\n",
    "        clean_wav, sr = torchaudio.load(clean_path)\n",
    "        if sr != 16000:\n",
    "            clean_wav = torchaudio.functional.resample(clean_wav, sr, 16000)\n",
    "\n",
    "        # Load and resample noisy audio to 16 kHz\n",
    "        noisy_wav, sr = torchaudio.load(noisy_path)\n",
    "        if sr != 16000:\n",
    "            noisy_wav = torchaudio.functional.resample(noisy_wav, sr, 16000)\n",
    "\n",
    "        # --- To log-Mel spectrograms ---\n",
    "        clean_mel = torch.log1p(mel_spec_transform(clean_wav))\n",
    "        noisy_mel = torch.log1p(mel_spec_transform(noisy_wav))\n",
    "\n",
    "        # Normalize to roughly [-1,1]\n",
    "        clean_mel_normalized = normalize_minus_one_to_one(clean_mel)\n",
    "        noisy_mel_normalized = normalize_minus_one_to_one(noisy_mel)\n",
    "\n",
    "        return noisy_mel, clean_mel, basename"
   ]
  },
  {
   "cell_type": "code",
   "execution_count": null,
   "metadata": {},
   "outputs": [],
   "source": [
    "train_ds  = Pix2PixDataset('./data', mode = 'train')\n",
    "train_dl = DataLoader(train_ds, batch_size = 1, shuffle = True, num_workers = 0, pin_memory = True)"
   ]
  }
 ],
 "metadata": {
  "kernelspec": {
   "display_name": "Python 3",
   "language": "python",
   "name": "python3"
  },
  "language_info": {
   "codemirror_mode": {
    "name": "ipython",
    "version": 3
   },
   "file_extension": ".py",
   "mimetype": "text/x-python",
   "name": "python",
   "nbconvert_exporter": "python",
   "pygments_lexer": "ipython3",
   "version": "3.12.4"
  }
 },
 "nbformat": 4,
 "nbformat_minor": 2
}
